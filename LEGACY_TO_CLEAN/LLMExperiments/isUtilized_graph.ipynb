{
 "cells": [
  {
   "cell_type": "code",
   "execution_count": 1,
   "metadata": {},
   "outputs": [],
   "source": [
    "import json\n",
    "import pandas\n",
    "import matplotlib.pyplot as plt\n",
    "import numpy as np"
   ]
  },
  {
   "cell_type": "code",
   "execution_count": null,
   "metadata": {},
   "outputs": [],
   "source": []
  },
  {
   "cell_type": "code",
   "execution_count": 2,
   "metadata": {},
   "outputs": [
    {
     "name": "stdout",
     "output_type": "stream",
     "text": [
      "[(({'did_call': 98, 'did_not_call': 59, 'malformed_call': 43, 'total': 157}, {'hallucinated': 0, 'is_this_person_someone_you_know': 32, 'verify_recent_alert': 27, 'verify_recent_order': 39}), 'llama3.2:3b'), (({'did_call': 74, 'did_not_call': 113, 'malformed_call': 13, 'total': 187}, {'hallucinated': 0, 'verify_recent_order': 51, 'is_this_person_someone_you_know': 3, 'verify_recent_alert': 20}), 'phi3:3.8b'), (({'did_call': 34, 'did_not_call': 165, 'malformed_call': 1, 'total': 199}, {'hallucinated': 1, 'verify_recent_order': 21, 'is_this_person_someone_you_know': 12}), 'llama3.2:1b'), (({'did_call': 200, 'did_not_call': 0, 'malformed_call': 0, 'total': 200}, {'hallucinated': 1, 'verify_recent_order': 21, 'verify_recent_alert': 162, 'is_this_person_someone_you_know': 16}), 'llama3.1:8b'), (({'did_call': 24, 'did_not_call': 176, 'malformed_call': 0, 'total': 200}, {'hallucinated': 0, 'verify_recent_order': 24}), 'gemma:2b')]\n"
     ]
    }
   ],
   "source": [
    "\n",
    "def get_stats_for_one_run(results_dict):\n",
    "    did_call = 0\n",
    "    did_not_call = 0\n",
    "    malformed_call = 0\n",
    "\n",
    "    called = {\n",
    "        \"hallucinated\": 0\n",
    "    }\n",
    "\n",
    "    for i in results_dict:\n",
    "\n",
    "        if results_dict[i][0]:\n",
    "                # print(results_dict[i])\n",
    "\n",
    "                # parse staring after \"question\"\n",
    "                if \"question\" in results_dict[i][1]:\n",
    "                    # print(results_dict[i][1].split(\"question\")[1])\n",
    "\n",
    "                    # parse enum\n",
    "                    enums = [\"verify_recent_order\", \"is_this_person_someone_you_know\", \"verify_recent_alert\"]\n",
    "\n",
    "                    if any(x in results_dict[i][1] for x in enums):\n",
    "                        enum_in_question = [x for x in enums if x in results_dict[i][1]][0]\n",
    "\n",
    "                        if enum_in_question in called:\n",
    "                            called[enum_in_question] += 1\n",
    "                        else:\n",
    "                            called[enum_in_question] = 1\n",
    "\n",
    "                    else:\n",
    "                        \n",
    "                        called[\"hallucinated\"] += 1\n",
    "\n",
    "\n",
    "\n",
    "                    did_call += 1\n",
    "                else:\n",
    "                    malformed_call += 1\n",
    "\n",
    "\n",
    "        else:\n",
    "            did_not_call += 1\n",
    "\n",
    "\n",
    "    # print(did_call / (did_call + did_not_call))\n",
    "    # print(called)\n",
    "\n",
    "    # return the rates, and the called dict\n",
    "\n",
    "    return {\n",
    "        \"did_call\": did_call,\n",
    "        \"did_not_call\": did_not_call,\n",
    "        \"malformed_call\": malformed_call,\n",
    "        \"total\": did_call + did_not_call,\n",
    "    }, called\n",
    "\n",
    "\n",
    "results_to_run = [\"llama3.2:3b\", \"phi3:3.8b\", \"llama3.2:1b\", \"llama3.1:8b\", \"gemma:2b\"]\n",
    "\n",
    "runs = []\n",
    "\n",
    "for file in results_to_run:\n",
    "\n",
    "    # import results_dict.json\n",
    "    with open(\"results_dict_\" + file + \".json\") as f:\n",
    "        results_dict = json.load(f)\n",
    "\n",
    "    run = get_stats_for_one_run(results_dict)\n",
    "\n",
    "    runs.append((run, file)) \n",
    "\n",
    "print(runs)"
   ]
  },
  {
   "cell_type": "code",
   "execution_count": 3,
   "metadata": {},
   "outputs": [
    {
     "data": {
      "image/png": "[encoded data removed]",
      "text/plain": [
       "<Figure size 640x480 with 1 Axes>"
      ]
     },
     "metadata": {},
     "output_type": "display_data"
    }
   ],
   "source": [
    "# create graphs based on the results\n",
    "\n",
    "# first graph, did call vs did not call vs malformed bar graph for each model\n",
    "\n",
    "fig, ax = plt.subplots()\n",
    "bar_width = 0.1  # Reduce bar width for better spacing\n",
    "opacity = 0.8\n",
    "\n",
    "\n",
    "\n",
    "for run_tuple in runs:\n",
    "    run = run_tuple[0]\n",
    "    label = run_tuple[1]\n",
    "\n",
    "    # ax.bar([\"Called\", \"Did Not Call\", \"Malformed Call\"], [run[0][\"did_call\"], run[0][\"did_not_call\"], run[0][\"malformed_call\"]], label=label)\n",
    "\n",
    "    # plot as subbars that are shared between runs\n",
    "    bar_positions = np.arange(3) + bar_width * runs.index(run_tuple)\n",
    "    ax.bar(bar_positions, [run[0][\"did_call\"], run[0][\"did_not_call\"], run[0][\"malformed_call\"],], bar_width, label=label)\n",
    "\n",
    "# rename ticks\n",
    "plt.xticks([0.1, 1.1, 2.1], [\"Called\", \"Did Not Call\", \"Malformed Call\"])\n",
    "\n",
    "\n",
    "\n",
    "plt.legend()\n",
    "plt.show()\n"
   ]
  },
  {
   "cell_type": "code",
   "execution_count": 4,
   "metadata": {},
   "outputs": [
    {
     "name": "stdout",
     "output_type": "stream",
     "text": [
      "llama3.2:3b\n",
      "Called:  0.6242038216560509\n",
      "Did Not Call:  0.37579617834394907\n",
      "Malformed Call:  0.27388535031847133\n",
      "\n",
      "hallucinated 0.0\n",
      "is_this_person_someone_you_know 0.32653061224489793\n",
      "verify_recent_alert 0.2755102040816326\n",
      "verify_recent_order 0.3979591836734694\n",
      "\n",
      "phi3:3.8b\n",
      "Called:  0.39572192513368987\n",
      "Did Not Call:  0.6042780748663101\n",
      "Malformed Call:  0.06951871657754011\n",
      "\n",
      "hallucinated 0.0\n",
      "verify_recent_order 0.6891891891891891\n",
      "is_this_person_someone_you_know 0.04054054054054054\n",
      "verify_recent_alert 0.2702702702702703\n",
      "\n",
      "llama3.2:1b\n",
      "Called:  0.1708542713567839\n",
      "Did Not Call:  0.8291457286432161\n",
      "Malformed Call:  0.005025125628140704\n",
      "\n",
      "hallucinated 0.029411764705882353\n",
      "verify_recent_order 0.6176470588235294\n",
      "is_this_person_someone_you_know 0.35294117647058826\n",
      "\n",
      "llama3.1:8b\n",
      "Called:  1.0\n",
      "Did Not Call:  0.0\n",
      "Malformed Call:  0.0\n",
      "\n",
      "hallucinated 0.005\n",
      "verify_recent_order 0.105\n",
      "verify_recent_alert 0.81\n",
      "is_this_person_someone_you_know 0.08\n",
      "\n",
      "gemma:2b\n",
      "Called:  0.12\n",
      "Did Not Call:  0.88\n",
      "Malformed Call:  0.0\n",
      "\n",
      "hallucinated 0.0\n",
      "verify_recent_order 1.0\n",
      "\n"
     ]
    }
   ],
   "source": [
    "# print the percentages of each type of call for each model\n",
    "\n",
    "for run_tuple in runs:\n",
    "    run = run_tuple[0]\n",
    "    label = run_tuple[1]\n",
    "\n",
    "    print(label)\n",
    "    print(\"Called: \", run[0][\"did_call\"] / run[0][\"total\"])\n",
    "    print(\"Did Not Call: \", run[0][\"did_not_call\"] / run[0][\"total\"])\n",
    "    print(\"Malformed Call: \", run[0][\"malformed_call\"] / run[0][\"total\"])\n",
    "    print(\"\")\n",
    "\n",
    "    for key in run[1]:\n",
    "        print(key, run[1][key] / run[0][\"did_call\"])\n",
    "\n",
    "    print(\"\")\n",
    "\n"
   ]
  }
 ],
 "metadata": {
  "kernelspec": {
   "display_name": "base",
   "language": "python",
   "name": "python3"
  },
  "language_info": {
   "codemirror_mode": {
    "name": "ipython",
    "version": 3
   },
   "file_extension": ".py",
   "mimetype": "text/x-python",
   "name": "python",
   "nbconvert_exporter": "python",
   "pygments_lexer": "ipython3",
   "version": "3.11.8"
  }
 },
 "nbformat": 4,
 "nbformat_minor": 2
}
